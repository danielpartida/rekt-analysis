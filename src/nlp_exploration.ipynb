{
 "cells": [
  {
   "cell_type": "code",
   "execution_count": null,
   "metadata": {},
   "outputs": [],
   "source": []
  }
 ],
 "metadata": {
  "kernelspec": {
   "display_name": "venv",
   "language": "python",
   "name": "python3"
  },
  "language_info": {
   "name": "python",
   "version": "3.9.13"
  },
  "orig_nbformat": 4,
  "vscode": {
   "interpreter": {
    "hash": "d9788f74e1f8eaf6b842b11ce92a3437eec12d2b9296def4c217cd0b53da6ebd"
   }
  }
 },
 "nbformat": 4,
 "nbformat_minor": 2
}
