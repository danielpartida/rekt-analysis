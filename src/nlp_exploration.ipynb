{
 "cells": [
  {
   "cell_type": "code",
   "execution_count": 10,
   "metadata": {},
   "outputs": [],
   "source": [
    "from queries import description_query\n",
    "from main import execute_gql_query, get_graphql_client\n",
    "from transformers import pipeline"
   ]
  },
  {
   "cell_type": "code",
   "execution_count": 2,
   "metadata": {},
   "outputs": [
    {
     "data": {
      "application/vnd.jupyter.widget-view+json": {
       "model_id": "27dfb32a9d1b419080c9a210cfa4e74f",
       "version_major": 2,
       "version_minor": 0
      },
      "text/plain": [
       "Downloading (…)\"pytorch_model.bin\";:   0%|          | 0.00/1.63G [00:00<?, ?B/s]"
      ]
     },
     "metadata": {},
     "output_type": "display_data"
    },
    {
     "name": "stderr",
     "output_type": "stream",
     "text": [
      "c:\\Users\\foure\\Desktop\\rekt-analysis\\venv\\lib\\site-packages\\huggingface_hub\\file_download.py:129: UserWarning: `huggingface_hub` cache-system uses symlinks by default to efficiently store duplicated files but your machine does not support them in C:\\Users\\foure\\.cache\\huggingface\\hub. Caching files will still work but in a degraded version that might require more space on your disk. This warning can be disabled by setting the `HF_HUB_DISABLE_SYMLINKS_WARNING` environment variable. For more details, see https://huggingface.co/docs/huggingface_hub/how-to-cache#limitations.\n",
      "To support symlinks on Windows, you either need to activate Developer Mode or to run Python as an administrator. In order to see activate developer mode, see this article: https://docs.microsoft.com/en-us/windows/apps/get-started/enable-your-device-for-development\n",
      "  warnings.warn(message)\n"
     ]
    },
    {
     "data": {
      "application/vnd.jupyter.widget-view+json": {
       "model_id": "c011300d6a334e8e94b9260e57e2956d",
       "version_major": 2,
       "version_minor": 0
      },
      "text/plain": [
       "Downloading (…)okenizer_config.json:   0%|          | 0.00/300 [00:00<?, ?B/s]"
      ]
     },
     "metadata": {},
     "output_type": "display_data"
    },
    {
     "data": {
      "application/vnd.jupyter.widget-view+json": {
       "model_id": "67106173a2984a19bad7ab13a0e1286d",
       "version_major": 2,
       "version_minor": 0
      },
      "text/plain": [
       "Downloading (…)olve/main/vocab.json:   0%|          | 0.00/798k [00:00<?, ?B/s]"
      ]
     },
     "metadata": {},
     "output_type": "display_data"
    },
    {
     "data": {
      "application/vnd.jupyter.widget-view+json": {
       "model_id": "bb8a763b064040e296eb68c0921b520f",
       "version_major": 2,
       "version_minor": 0
      },
      "text/plain": [
       "Downloading (…)olve/main/merges.txt:   0%|          | 0.00/456k [00:00<?, ?B/s]"
      ]
     },
     "metadata": {},
     "output_type": "display_data"
    },
    {
     "data": {
      "application/vnd.jupyter.widget-view+json": {
       "model_id": "d67d5bbbe4b5473283822410c23ece21",
       "version_major": 2,
       "version_minor": 0
      },
      "text/plain": [
       "Downloading (…)cial_tokens_map.json:   0%|          | 0.00/239 [00:00<?, ?B/s]"
      ]
     },
     "metadata": {},
     "output_type": "display_data"
    }
   ],
   "source": [
    "task = \"summarization\"\n",
    "model = \"philschmid/bart-large-cnn-samsum\"\n",
    "summarizer = pipeline(task, model=model)"
   ]
  },
  {
   "cell_type": "code",
   "execution_count": 11,
   "metadata": {},
   "outputs": [
    {
     "ename": "AssertionError",
     "evalue": "Cannot run client.execute(query) if an asyncio loop is running. Use 'await client.execute_async(query)' instead.",
     "output_type": "error",
     "traceback": [
      "\u001b[1;31m---------------------------------------------------------------------------\u001b[0m",
      "\u001b[1;31mAssertionError\u001b[0m                            Traceback (most recent call last)",
      "Cell \u001b[1;32mIn[11], line 2\u001b[0m\n\u001b[0;32m      1\u001b[0m gql_client \u001b[39m=\u001b[39m get_graphql_client()\n\u001b[1;32m----> 2\u001b[0m description_response \u001b[39m=\u001b[39m execute_gql_query(client\u001b[39m=\u001b[39;49mgql_client, query\u001b[39m=\u001b[39;49mdescription_query)\n",
      "File \u001b[1;32mc:\\Users\\foure\\Desktop\\rekt-analysis\\src\\main.py:40\u001b[0m, in \u001b[0;36mexecute_gql_query\u001b[1;34m(client, query)\u001b[0m\n\u001b[0;32m     33\u001b[0m \u001b[39m\u001b[39m\u001b[39m\"\"\"\u001b[39;00m\n\u001b[0;32m     34\u001b[0m \u001b[39mExecutes GraphQL query given a client and query in form of str\u001b[39;00m\n\u001b[0;32m     35\u001b[0m \u001b[39m:param client: GraphQL client\u001b[39;00m\n\u001b[0;32m     36\u001b[0m \u001b[39m:param query: str\u001b[39;00m\n\u001b[0;32m     37\u001b[0m \u001b[39m:return: GraphQL response\u001b[39;00m\n\u001b[0;32m     38\u001b[0m \u001b[39m\"\"\"\u001b[39;00m\n\u001b[0;32m     39\u001b[0m chain_query \u001b[39m=\u001b[39m gql(query)\n\u001b[1;32m---> 40\u001b[0m gql_response \u001b[39m=\u001b[39m client\u001b[39m.\u001b[39;49mexecute(chain_query)\n\u001b[0;32m     42\u001b[0m \u001b[39mreturn\u001b[39;00m gql_response\n",
      "File \u001b[1;32mc:\\Users\\foure\\Desktop\\rekt-analysis\\venv\\lib\\site-packages\\gql\\client.py:383\u001b[0m, in \u001b[0;36mClient.execute\u001b[1;34m(self, document, variable_values, operation_name, serialize_variables, parse_result, get_execution_result, **kwargs)\u001b[0m\n\u001b[0;32m    380\u001b[0m     loop \u001b[39m=\u001b[39m asyncio\u001b[39m.\u001b[39mnew_event_loop()\n\u001b[0;32m    381\u001b[0m     asyncio\u001b[39m.\u001b[39mset_event_loop(loop)\n\u001b[1;32m--> 383\u001b[0m \u001b[39massert\u001b[39;00m \u001b[39mnot\u001b[39;00m loop\u001b[39m.\u001b[39mis_running(), (\n\u001b[0;32m    384\u001b[0m     \u001b[39m\"\u001b[39m\u001b[39mCannot run client.execute(query) if an asyncio loop is running.\u001b[39m\u001b[39m\"\u001b[39m\n\u001b[0;32m    385\u001b[0m     \u001b[39m\"\u001b[39m\u001b[39m Use \u001b[39m\u001b[39m'\u001b[39m\u001b[39mawait client.execute_async(query)\u001b[39m\u001b[39m'\u001b[39m\u001b[39m instead.\u001b[39m\u001b[39m\"\u001b[39m\n\u001b[0;32m    386\u001b[0m )\n\u001b[0;32m    388\u001b[0m data \u001b[39m=\u001b[39m loop\u001b[39m.\u001b[39mrun_until_complete(\n\u001b[0;32m    389\u001b[0m     \u001b[39mself\u001b[39m\u001b[39m.\u001b[39mexecute_async(\n\u001b[0;32m    390\u001b[0m         document,\n\u001b[1;32m   (...)\u001b[0m\n\u001b[0;32m    397\u001b[0m     )\n\u001b[0;32m    398\u001b[0m )\n\u001b[0;32m    400\u001b[0m \u001b[39mreturn\u001b[39;00m data\n",
      "\u001b[1;31mAssertionError\u001b[0m: Cannot run client.execute(query) if an asyncio loop is running. Use 'await client.execute_async(query)' instead."
     ]
    }
   ],
   "source": [
    "gql_client = get_graphql_client()\n",
    "description_response = execute_gql_query(client=gql_client, query=description_query)"
   ]
  },
  {
   "cell_type": "code",
   "execution_count": 3,
   "metadata": {},
   "outputs": [],
   "source": [
    "conversation = '''Jeff: Can I train a 🤗 Transformers model on Amazon SageMaker? \n",
    "Philipp: Sure you can use the new Hugging Face Deep Learning Container. \n",
    "Jeff: ok.\n",
    "Jeff: and how can I get started? \n",
    "Jeff: where can I find documentation? \n",
    "Philipp: ok, ok you can find everything here. https://huggingface.co/blog/the-partnership-amazon-sagemaker-and-hugging-face                                           \n",
    "'''"
   ]
  },
  {
   "cell_type": "code",
   "execution_count": 4,
   "metadata": {},
   "outputs": [
    {
     "data": {
      "text/plain": [
       "[{'summary_text': \"Jeff wants to train a Transformers model on Amazon SageMaker. He can use the new Hugging Face Deep Learning Container. Jeff can find the documentation on Huggingface's blog.    .   The blog is available at: https://huggingface.co/blog/the-partnership-amazon-sagemaker-and-hugling-face.\"}]"
      ]
     },
     "execution_count": 4,
     "metadata": {},
     "output_type": "execute_result"
    }
   ],
   "source": [
    "summarizer(conversation)"
   ]
  }
 ],
 "metadata": {
  "kernelspec": {
   "display_name": "venv",
   "language": "python",
   "name": "python3"
  },
  "language_info": {
   "codemirror_mode": {
    "name": "ipython",
    "version": 3
   },
   "file_extension": ".py",
   "mimetype": "text/x-python",
   "name": "python",
   "nbconvert_exporter": "python",
   "pygments_lexer": "ipython3",
   "version": "3.9.13"
  },
  "orig_nbformat": 4,
  "vscode": {
   "interpreter": {
    "hash": "d9788f74e1f8eaf6b842b11ce92a3437eec12d2b9296def4c217cd0b53da6ebd"
   }
  }
 },
 "nbformat": 4,
 "nbformat_minor": 2
}
