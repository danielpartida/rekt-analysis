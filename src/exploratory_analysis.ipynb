{
 "cells": [
  {
   "cell_type": "code",
   "execution_count": 11,
   "metadata": {},
   "outputs": [],
   "source": [
    "from gql import gql, Client\n",
    "from gql.transport.aiohttp import AIOHTTPTransport\n",
    "import asyncio\n",
    "\n",
    "\n",
    "async def main():\n",
    "    # Select your transport with a defined url endpoint\n",
    "    transport = AIOHTTPTransport(url=\"https://countries.trevorblades.com/\")\n",
    "\n",
    "    # Create a GraphQL client using the defined transport\n",
    "    client = Client(transport=transport, fetch_schema_from_transport=True)\n",
    "\n",
    "    # Provide a GraphQL query\n",
    "    query = gql(\n",
    "        \"\"\"\n",
    "        query getContinents {\n",
    "        continents {\n",
    "            code\n",
    "            name\n",
    "        }\n",
    "        }\n",
    "    \"\"\"\n",
    "    )\n",
    "\n",
    "    # Execute the query on the transport\n",
    "    result = client.execute(query)\n",
    "    print(result)"
   ]
  },
  {
   "cell_type": "code",
   "execution_count": null,
   "metadata": {},
   "outputs": [],
   "source": [
    "# FIXME: Add async await for Jupyter notebook https://stackoverflow.com/questions/55409641/asyncio-run-cannot-be-called-from-a-running-event-loop-when-using-jupyter-no"
   ]
  }
 ],
 "metadata": {
  "kernelspec": {
   "display_name": "venv",
   "language": "python",
   "name": "python3"
  },
  "language_info": {
   "codemirror_mode": {
    "name": "ipython",
    "version": 3
   },
   "file_extension": ".py",
   "mimetype": "text/x-python",
   "name": "python",
   "nbconvert_exporter": "python",
   "pygments_lexer": "ipython3",
   "version": "3.9.13"
  },
  "orig_nbformat": 4,
  "vscode": {
   "interpreter": {
    "hash": "d9788f74e1f8eaf6b842b11ce92a3437eec12d2b9296def4c217cd0b53da6ebd"
   }
  }
 },
 "nbformat": 4,
 "nbformat_minor": 2
}
